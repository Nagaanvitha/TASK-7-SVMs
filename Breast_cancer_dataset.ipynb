{
  "metadata": {
    "kernelspec": {
      "language": "python",
      "display_name": "Python 3",
      "name": "python3"
    },
    "language_info": {
      "name": "python",
      "version": "3.11.11",
      "mimetype": "text/x-python",
      "codemirror_mode": {
        "name": "ipython",
        "version": 3
      },
      "pygments_lexer": "ipython3",
      "nbconvert_exporter": "python",
      "file_extension": ".py"
    },
    "kaggle": {
      "accelerator": "none",
      "dataSources": [
        {
          "sourceId": 2984728,
          "sourceType": "datasetVersion",
          "datasetId": 1829286
        }
      ],
      "dockerImageVersionId": 31012,
      "isInternetEnabled": true,
      "language": "python",
      "sourceType": "notebook",
      "isGpuEnabled": false
    },
    "colab": {
      "name": "Breast cancer dataset ",
      "provenance": []
    }
  },
  "nbformat_minor": 0,
  "nbformat": 4,
  "cells": [
    {
      "source": [
        "# IMPORTANT: RUN THIS CELL IN ORDER TO IMPORT YOUR KAGGLE DATA SOURCES,\n",
        "# THEN FEEL FREE TO DELETE THIS CELL.\n",
        "# NOTE: THIS NOTEBOOK ENVIRONMENT DIFFERS FROM KAGGLE'S PYTHON\n",
        "# ENVIRONMENT SO THERE MAY BE MISSING LIBRARIES USED BY YOUR\n",
        "# NOTEBOOK.\n",
        "import kagglehub\n",
        "yasserh_breast_cancer_dataset_path = kagglehub.dataset_download('yasserh/breast-cancer-dataset')\n",
        "\n",
        "print('Data source import complete.')\n"
      ],
      "metadata": {
        "id": "zyzlXUILKq0t"
      },
      "cell_type": "code",
      "outputs": [],
      "execution_count": null
    },
    {
      "cell_type": "code",
      "source": [
        "# This Python 3 environment comes with many helpful analytics libraries installed\n",
        "# It is defined by the kaggle/python Docker image: https://github.com/kaggle/docker-python\n",
        "# For example, here's several helpful packages to load\n",
        "\n",
        "import numpy as np # linear algebra\n",
        "import pandas as pd # data processing, CSV file I/O (e.g. pd.read_csv)\n",
        "\n",
        "# Input data files are available in the read-only \"../input/\" directory\n",
        "# For example, running this (by clicking run or pressing Shift+Enter) will list all files under the input directory\n",
        "\n",
        "import os\n",
        "for dirname, _, filenames in os.walk('/kaggle/input'):\n",
        "    for filename in filenames:\n",
        "        print(os.path.join(dirname, filename))\n",
        "\n",
        "# You can write up to 20GB to the current directory (/kaggle/working/) that gets preserved as output when you create a version using \"Save & Run All\"\n",
        "# You can also write temporary files to /kaggle/temp/, but they won't be saved outside of the current session"
      ],
      "metadata": {
        "_uuid": "8f2839f25d086af736a60e9eeb907d3b93b6e0e5",
        "_cell_guid": "b1076dfc-b9ad-4769-8c92-a6c4dae69d19",
        "trusted": true,
        "execution": {
          "iopub.status.busy": "2025-04-25T05:42:12.738193Z",
          "iopub.execute_input": "2025-04-25T05:42:12.738945Z",
          "iopub.status.idle": "2025-04-25T05:42:13.095022Z",
          "shell.execute_reply.started": "2025-04-25T05:42:12.73892Z",
          "shell.execute_reply": "2025-04-25T05:42:13.094076Z"
        },
        "id": "n7EVvd6mKq01"
      },
      "outputs": [],
      "execution_count": null
    },
    {
      "cell_type": "markdown",
      "source": [
        "# IMPORT LIBRARIES"
      ],
      "metadata": {
        "id": "NoPTo29jKq02"
      }
    },
    {
      "cell_type": "code",
      "source": [
        "import pandas as pd\n",
        "import matplotlib.pyplot as plt\n",
        "import seaborn as sns\n",
        "from sklearn.tree import DecisionTreeClassifier\n",
        "from sklearn.metrics import confusion_matrix, classification_report , accuracy_score\n",
        "from sklearn.model_selection import train_test_split\n",
        "\n",
        "import warnings\n",
        "warnings.filterwarnings(\"ignore\")"
      ],
      "metadata": {
        "trusted": true,
        "execution": {
          "iopub.status.busy": "2025-04-25T05:42:16.567406Z",
          "iopub.execute_input": "2025-04-25T05:42:16.568663Z",
          "iopub.status.idle": "2025-04-25T05:42:18.358394Z",
          "shell.execute_reply.started": "2025-04-25T05:42:16.568625Z",
          "shell.execute_reply": "2025-04-25T05:42:18.357476Z"
        },
        "id": "DfoE_U7QKq05"
      },
      "outputs": [],
      "execution_count": null
    },
    {
      "cell_type": "markdown",
      "source": [
        "# LOADING DATASET"
      ],
      "metadata": {
        "id": "00rFKol6Kq07"
      }
    },
    {
      "cell_type": "code",
      "source": [
        "df=pd.read_csv(\"/kaggle/input/breast-cancer-dataset/breast-cancer.csv\")"
      ],
      "metadata": {
        "trusted": true,
        "execution": {
          "iopub.status.busy": "2025-04-25T05:42:19.988857Z",
          "iopub.execute_input": "2025-04-25T05:42:19.989419Z",
          "iopub.status.idle": "2025-04-25T05:42:20.02229Z",
          "shell.execute_reply.started": "2025-04-25T05:42:19.989381Z",
          "shell.execute_reply": "2025-04-25T05:42:20.021316Z"
        },
        "id": "1go4jdtbKq08"
      },
      "outputs": [],
      "execution_count": null
    },
    {
      "cell_type": "markdown",
      "source": [
        "# DATA PREPROCESSING"
      ],
      "metadata": {
        "id": "5OU4UYWIKq08"
      }
    },
    {
      "cell_type": "code",
      "source": [
        "df.head()\n"
      ],
      "metadata": {
        "trusted": true,
        "execution": {
          "iopub.status.busy": "2025-04-25T05:42:22.913329Z",
          "iopub.execute_input": "2025-04-25T05:42:22.913749Z",
          "iopub.status.idle": "2025-04-25T05:42:22.961129Z",
          "shell.execute_reply.started": "2025-04-25T05:42:22.913718Z",
          "shell.execute_reply": "2025-04-25T05:42:22.960273Z"
        },
        "id": "R4XRLVcgKq09"
      },
      "outputs": [],
      "execution_count": null
    },
    {
      "cell_type": "code",
      "source": [
        "df.shape"
      ],
      "metadata": {
        "trusted": true,
        "execution": {
          "iopub.status.busy": "2025-04-25T05:42:25.213043Z",
          "iopub.execute_input": "2025-04-25T05:42:25.213414Z",
          "iopub.status.idle": "2025-04-25T05:42:25.222866Z",
          "shell.execute_reply.started": "2025-04-25T05:42:25.213388Z",
          "shell.execute_reply": "2025-04-25T05:42:25.221788Z"
        },
        "id": "0_2ZnQMUKq0-"
      },
      "outputs": [],
      "execution_count": null
    },
    {
      "cell_type": "code",
      "source": [
        "df.describe()"
      ],
      "metadata": {
        "trusted": true,
        "execution": {
          "iopub.status.busy": "2025-04-25T05:42:28.737631Z",
          "iopub.execute_input": "2025-04-25T05:42:28.737913Z",
          "iopub.status.idle": "2025-04-25T05:42:28.817134Z",
          "shell.execute_reply.started": "2025-04-25T05:42:28.737894Z",
          "shell.execute_reply": "2025-04-25T05:42:28.815805Z"
        },
        "id": "WTkagon7Kq0-"
      },
      "outputs": [],
      "execution_count": null
    },
    {
      "cell_type": "code",
      "source": [
        "df.info()"
      ],
      "metadata": {
        "trusted": true,
        "execution": {
          "iopub.status.busy": "2025-04-25T05:42:30.39754Z",
          "iopub.execute_input": "2025-04-25T05:42:30.397866Z",
          "iopub.status.idle": "2025-04-25T05:42:30.424839Z",
          "shell.execute_reply.started": "2025-04-25T05:42:30.397843Z",
          "shell.execute_reply": "2025-04-25T05:42:30.423893Z"
        },
        "id": "B_HHxKxxKq0_"
      },
      "outputs": [],
      "execution_count": null
    },
    {
      "cell_type": "markdown",
      "source": [
        "# HANDLING MISSING VALUES/NULL VALUES"
      ],
      "metadata": {
        "id": "PQqUE26QKq0_"
      }
    },
    {
      "cell_type": "code",
      "source": [
        "df.isnull().sum()"
      ],
      "metadata": {
        "trusted": true,
        "execution": {
          "iopub.status.busy": "2025-04-25T05:42:35.083286Z",
          "iopub.execute_input": "2025-04-25T05:42:35.083683Z",
          "iopub.status.idle": "2025-04-25T05:42:35.094613Z",
          "shell.execute_reply.started": "2025-04-25T05:42:35.083656Z",
          "shell.execute_reply": "2025-04-25T05:42:35.0929Z"
        },
        "id": "Vy7iyv7xKq1A"
      },
      "outputs": [],
      "execution_count": null
    },
    {
      "cell_type": "markdown",
      "source": [
        "# DUPLICATE VALUES"
      ],
      "metadata": {
        "id": "ZbcjBPyCKq1A"
      }
    },
    {
      "cell_type": "code",
      "source": [
        "df.duplicated().sum()"
      ],
      "metadata": {
        "trusted": true,
        "execution": {
          "iopub.status.busy": "2025-04-25T05:42:38.667862Z",
          "iopub.execute_input": "2025-04-25T05:42:38.668329Z",
          "iopub.status.idle": "2025-04-25T05:42:38.681572Z",
          "shell.execute_reply.started": "2025-04-25T05:42:38.668294Z",
          "shell.execute_reply": "2025-04-25T05:42:38.680597Z"
        },
        "id": "EZybfGnUKq1A"
      },
      "outputs": [],
      "execution_count": null
    },
    {
      "cell_type": "markdown",
      "source": [
        "# EDA"
      ],
      "metadata": {
        "id": "mNJ0cq4uKq1A"
      }
    },
    {
      "cell_type": "code",
      "source": [
        "sns.histplot(data=df, x='radius_mean', hue='diagnosis', kde=True, palette='Set1', bins=30)\n",
        "plt.title('Distribution of Radius Mean by Diagnosis')\n",
        "plt.show()"
      ],
      "metadata": {
        "trusted": true,
        "execution": {
          "iopub.status.busy": "2025-04-25T05:42:42.742508Z",
          "iopub.execute_input": "2025-04-25T05:42:42.742805Z",
          "iopub.status.idle": "2025-04-25T05:42:43.23979Z",
          "shell.execute_reply.started": "2025-04-25T05:42:42.742783Z",
          "shell.execute_reply": "2025-04-25T05:42:43.23888Z"
        },
        "id": "kmjotbWdKq1B"
      },
      "outputs": [],
      "execution_count": null
    },
    {
      "cell_type": "code",
      "source": [
        "sns.violinplot(x='diagnosis', y='radius_mean', data=df, palette='muted')\n",
        "plt.title('Violin Plot of Area Mean by Diagnosis')\n",
        "plt.show()"
      ],
      "metadata": {
        "trusted": true,
        "execution": {
          "iopub.status.busy": "2025-04-25T05:42:48.332215Z",
          "iopub.execute_input": "2025-04-25T05:42:48.332516Z",
          "iopub.status.idle": "2025-04-25T05:42:48.624754Z",
          "shell.execute_reply.started": "2025-04-25T05:42:48.332494Z",
          "shell.execute_reply": "2025-04-25T05:42:48.62278Z"
        },
        "id": "c9HBSZevKq1B"
      },
      "outputs": [],
      "execution_count": null
    },
    {
      "cell_type": "code",
      "source": [
        "numerical_df = df.select_dtypes(include=[np.number])\n",
        "\n",
        "# Calculate correlations\n",
        "corr = numerical_df.corr()  # Exclude non-numerical columns\n",
        "plt.figure(figsize=(15, 8))\n",
        "sns.heatmap(corr,annot=True)\n",
        "plt.title('Correlation Heatmap')\n",
        "plt.show()"
      ],
      "metadata": {
        "trusted": true,
        "execution": {
          "iopub.status.busy": "2025-04-25T05:42:50.783396Z",
          "iopub.execute_input": "2025-04-25T05:42:50.783766Z",
          "iopub.status.idle": "2025-04-25T05:42:53.121137Z",
          "shell.execute_reply.started": "2025-04-25T05:42:50.783742Z",
          "shell.execute_reply": "2025-04-25T05:42:53.119791Z"
        },
        "id": "wyW6Gm2_Kq1B"
      },
      "outputs": [],
      "execution_count": null
    },
    {
      "cell_type": "code",
      "source": [
        "print(corr['radius_mean']['radius_worst'])\n",
        "print(corr['texture_mean']['texture_worst'])\n",
        "print(corr['smoothness_mean']['smoothness_worst'])\n",
        "print(corr['compactness_mean']['compactness_worst'])\n",
        "print(corr['concavity_mean']['concavity_worst'])\n",
        "print(corr['concave points_mean']['concave points_worst'])\n",
        "print(corr['symmetry_mean']['symmetry_worst'])"
      ],
      "metadata": {
        "trusted": true,
        "execution": {
          "iopub.status.busy": "2025-04-25T05:42:58.589947Z",
          "iopub.execute_input": "2025-04-25T05:42:58.591204Z",
          "iopub.status.idle": "2025-04-25T05:42:58.600191Z",
          "shell.execute_reply.started": "2025-04-25T05:42:58.591161Z",
          "shell.execute_reply": "2025-04-25T05:42:58.598998Z"
        },
        "id": "WOPwY8fUKq1B"
      },
      "outputs": [],
      "execution_count": null
    },
    {
      "cell_type": "code",
      "source": [
        "df.drop(['radius_worst','concave points_mean','texture_worst','smoothness_worst','concavity_worst','compactness_mean'],axis=1,inplace=True)\n",
        "df.shape"
      ],
      "metadata": {
        "trusted": true,
        "execution": {
          "iopub.status.busy": "2025-04-25T05:43:32.173163Z",
          "iopub.execute_input": "2025-04-25T05:43:32.173439Z",
          "iopub.status.idle": "2025-04-25T05:43:32.182025Z",
          "shell.execute_reply.started": "2025-04-25T05:43:32.173421Z",
          "shell.execute_reply": "2025-04-25T05:43:32.180454Z"
        },
        "id": "GUC3dN51Kq1C"
      },
      "outputs": [],
      "execution_count": null
    },
    {
      "cell_type": "code",
      "source": [
        "sns.countplot(x='diagnosis', data=df, palette='Set2')\n",
        "plt.title('Diagnosis Distribution')\n",
        "plt.xlabel('Diagnosis (M = Malignant, B = Benign)')\n",
        "plt.ylabel('Count')\n",
        "plt.show()"
      ],
      "metadata": {
        "trusted": true,
        "execution": {
          "iopub.status.busy": "2025-04-25T05:43:50.858677Z",
          "iopub.execute_input": "2025-04-25T05:43:50.859075Z",
          "iopub.status.idle": "2025-04-25T05:43:51.01039Z",
          "shell.execute_reply.started": "2025-04-25T05:43:50.859034Z",
          "shell.execute_reply": "2025-04-25T05:43:51.009503Z"
        },
        "id": "VyRFWz-kKq1C"
      },
      "outputs": [],
      "execution_count": null
    },
    {
      "cell_type": "markdown",
      "source": [
        "# ENCODING"
      ],
      "metadata": {
        "id": "zYQujhaWKq1C"
      }
    },
    {
      "cell_type": "code",
      "source": [
        "df['diagnosis']=df['diagnosis'].map({'M': 0, 'B': 1})\n",
        "df['diagnosis']"
      ],
      "metadata": {
        "trusted": true,
        "execution": {
          "iopub.status.busy": "2025-04-25T05:47:03.869496Z",
          "iopub.execute_input": "2025-04-25T05:47:03.869822Z",
          "iopub.status.idle": "2025-04-25T05:47:03.878795Z",
          "shell.execute_reply.started": "2025-04-25T05:47:03.869804Z",
          "shell.execute_reply": "2025-04-25T05:47:03.877704Z"
        },
        "id": "8n1egdP1Kq1D"
      },
      "outputs": [],
      "execution_count": null
    },
    {
      "cell_type": "markdown",
      "source": [
        "# SELECTION OF FEATURE AND TARGET"
      ],
      "metadata": {
        "id": "gkhEM1ggKq1D"
      }
    },
    {
      "cell_type": "code",
      "source": [
        "X=df.drop(['diagnosis'],axis=1)\n",
        "y=df['diagnosis']"
      ],
      "metadata": {
        "trusted": true,
        "execution": {
          "iopub.status.busy": "2025-04-25T05:49:18.765416Z",
          "iopub.execute_input": "2025-04-25T05:49:18.766444Z",
          "iopub.status.idle": "2025-04-25T05:49:18.771957Z",
          "shell.execute_reply.started": "2025-04-25T05:49:18.766398Z",
          "shell.execute_reply": "2025-04-25T05:49:18.771217Z"
        },
        "id": "cCyBpjJSKq1D"
      },
      "outputs": [],
      "execution_count": null
    },
    {
      "cell_type": "markdown",
      "source": [
        "# NORMALIZATION"
      ],
      "metadata": {
        "id": "r1MrgBeXKq1D"
      }
    },
    {
      "cell_type": "code",
      "source": [
        "from sklearn.preprocessing import  StandardScaler\n",
        "\n",
        "scl =StandardScaler()\n",
        "X_scaled = scl.fit_transform(X)"
      ],
      "metadata": {
        "trusted": true,
        "execution": {
          "iopub.status.busy": "2025-04-25T05:50:07.95889Z",
          "iopub.execute_input": "2025-04-25T05:50:07.959215Z",
          "iopub.status.idle": "2025-04-25T05:50:08.01137Z",
          "shell.execute_reply.started": "2025-04-25T05:50:07.959194Z",
          "shell.execute_reply": "2025-04-25T05:50:08.010401Z"
        },
        "id": "JJ6fr47yKq1D"
      },
      "outputs": [],
      "execution_count": null
    },
    {
      "cell_type": "markdown",
      "source": [
        "# TRAIN TEST SPLIT"
      ],
      "metadata": {
        "id": "iHcJsSLwKq1E"
      }
    },
    {
      "cell_type": "code",
      "source": [
        "from sklearn.model_selection import train_test_split\n",
        "X_train, X_test, y_train, y_test = train_test_split(X_scaled,y,test_size=.2,random_state=42)"
      ],
      "metadata": {
        "trusted": true,
        "execution": {
          "iopub.status.busy": "2025-04-25T05:50:37.708894Z",
          "iopub.execute_input": "2025-04-25T05:50:37.709746Z",
          "iopub.status.idle": "2025-04-25T05:50:37.715484Z",
          "shell.execute_reply.started": "2025-04-25T05:50:37.709724Z",
          "shell.execute_reply": "2025-04-25T05:50:37.714498Z"
        },
        "id": "a0cUM8JQKq1E"
      },
      "outputs": [],
      "execution_count": null
    },
    {
      "cell_type": "code",
      "source": [],
      "metadata": {
        "trusted": true,
        "id": "IrzZS3eOKq1E"
      },
      "outputs": [],
      "execution_count": null
    }
  ]
}